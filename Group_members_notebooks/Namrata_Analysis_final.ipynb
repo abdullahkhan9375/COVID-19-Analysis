{
 "cells": [
  {
   "cell_type": "code",
   "execution_count": 1,
   "metadata": {},
   "outputs": [],
   "source": [
    "import pandas as pd\n",
    "%matplotlib notebook\n",
    "import numpy as np\n",
    "import seaborn as sns\n",
    "import matplotlib.pyplot as plt\n",
    "%matplotlib inline\n",
    "from sklearn.model_selection import train_test_split\n",
    "from sklearn import linear_model\n",
    "from sklearn.metrics import r2_score\n",
    "from sklearn.linear_model import LogisticRegression\n",
    "from sklearn.metrics import confusion_matrix, accuracy_score\n",
    "from sklearn.feature_selection import RFE\n",
    "from sklearn.metrics import mean_squared_error\n",
    "from sklearn.metrics import accuracy_score\n",
    "from sklearn.model_selection import GridSearchCV\n",
    "from sklearn.model_selection import cross_val_score, KFold\n",
    "import pandas as pd\n",
    "from sklearn.datasets import make_classification\n",
    "from sklearn.naive_bayes import GaussianNB\n",
    "\n",
    "import warnings\n",
    "warnings.filterwarnings(\"ignore\")"
   ]
  },
  {
   "cell_type": "markdown",
   "metadata": {},
   "source": [
    "## Importing Dataframes"
   ]
  },
  {
   "cell_type": "code",
   "execution_count": 2,
   "metadata": {},
   "outputs": [],
   "source": [
    "from dataframes import df1, df2, df3, df4, df5"
   ]
  },
  {
   "cell_type": "code",
   "execution_count": 3,
   "metadata": {},
   "outputs": [
    {
     "data": {
      "text/html": [
       "<div>\n",
       "<style scoped>\n",
       "    .dataframe tbody tr th:only-of-type {\n",
       "        vertical-align: middle;\n",
       "    }\n",
       "\n",
       "    .dataframe tbody tr th {\n",
       "        vertical-align: top;\n",
       "    }\n",
       "\n",
       "    .dataframe thead th {\n",
       "        text-align: right;\n",
       "    }\n",
       "</style>\n",
       "<table border=\"1\" class=\"dataframe\">\n",
       "  <thead>\n",
       "    <tr style=\"text-align: right;\">\n",
       "      <th></th>\n",
       "      <th>cases</th>\n",
       "      <th>deaths</th>\n",
       "      <th>Cumulative_number_for_14_days_of_COVID-19_cases_per_100000</th>\n",
       "      <th>Country</th>\n",
       "      <th>Region</th>\n",
       "      <th>Population</th>\n",
       "      <th>Area (sq. mi.)</th>\n",
       "      <th>Pop. Density (per sq. mi.)</th>\n",
       "      <th>Infant mortality (per 1000 births)</th>\n",
       "      <th>GDP ($ per capita)</th>\n",
       "      <th>...</th>\n",
       "      <th>Arable (%)</th>\n",
       "      <th>Crops (%)</th>\n",
       "      <th>Other (%)</th>\n",
       "      <th>Climate</th>\n",
       "      <th>Birthrate</th>\n",
       "      <th>Deathrate</th>\n",
       "      <th>Agriculture</th>\n",
       "      <th>Industry</th>\n",
       "      <th>Service</th>\n",
       "      <th>Codes</th>\n",
       "    </tr>\n",
       "    <tr>\n",
       "      <th>Code</th>\n",
       "      <th></th>\n",
       "      <th></th>\n",
       "      <th></th>\n",
       "      <th></th>\n",
       "      <th></th>\n",
       "      <th></th>\n",
       "      <th></th>\n",
       "      <th></th>\n",
       "      <th></th>\n",
       "      <th></th>\n",
       "      <th></th>\n",
       "      <th></th>\n",
       "      <th></th>\n",
       "      <th></th>\n",
       "      <th></th>\n",
       "      <th></th>\n",
       "      <th></th>\n",
       "      <th></th>\n",
       "      <th></th>\n",
       "      <th></th>\n",
       "      <th></th>\n",
       "    </tr>\n",
       "  </thead>\n",
       "  <tbody>\n",
       "    <tr>\n",
       "      <th>ABW</th>\n",
       "      <td>3998</td>\n",
       "      <td>27</td>\n",
       "      <td>48934.248896</td>\n",
       "      <td>Aruba</td>\n",
       "      <td>LATIN AMER. &amp; CARIB</td>\n",
       "      <td>71891</td>\n",
       "      <td>193</td>\n",
       "      <td>3725</td>\n",
       "      <td>589.0</td>\n",
       "      <td>28000.0</td>\n",
       "      <td>...</td>\n",
       "      <td>1053.0</td>\n",
       "      <td>0.0</td>\n",
       "      <td>8947.0</td>\n",
       "      <td>2.0</td>\n",
       "      <td>1103.0</td>\n",
       "      <td>668.0</td>\n",
       "      <td>4.0</td>\n",
       "      <td>333.0</td>\n",
       "      <td>663.0</td>\n",
       "      <td>ABW</td>\n",
       "    </tr>\n",
       "    <tr>\n",
       "      <th>AFG</th>\n",
       "      <td>39285</td>\n",
       "      <td>1458</td>\n",
       "      <td>1441.242580</td>\n",
       "      <td>Afghanistan</td>\n",
       "      <td>ASIA (EX. NEAR EAST)</td>\n",
       "      <td>31056997</td>\n",
       "      <td>647500</td>\n",
       "      <td>480</td>\n",
       "      <td>16307.0</td>\n",
       "      <td>700.0</td>\n",
       "      <td>...</td>\n",
       "      <td>1213.0</td>\n",
       "      <td>22.0</td>\n",
       "      <td>8765.0</td>\n",
       "      <td>1.0</td>\n",
       "      <td>466.0</td>\n",
       "      <td>2034.0</td>\n",
       "      <td>38.0</td>\n",
       "      <td>24.0</td>\n",
       "      <td>38.0</td>\n",
       "      <td>AFG</td>\n",
       "    </tr>\n",
       "    <tr>\n",
       "      <th>AGO</th>\n",
       "      <td>4972</td>\n",
       "      <td>183</td>\n",
       "      <td>194.681596</td>\n",
       "      <td>Angola</td>\n",
       "      <td>SUB-SAHARAN AFRICA</td>\n",
       "      <td>12127071</td>\n",
       "      <td>1246700</td>\n",
       "      <td>97</td>\n",
       "      <td>19119.0</td>\n",
       "      <td>1900.0</td>\n",
       "      <td>...</td>\n",
       "      <td>241.0</td>\n",
       "      <td>24.0</td>\n",
       "      <td>9735.0</td>\n",
       "      <td>0.0</td>\n",
       "      <td>4511.0</td>\n",
       "      <td>242.0</td>\n",
       "      <td>96.0</td>\n",
       "      <td>658.0</td>\n",
       "      <td>246.0</td>\n",
       "      <td>AGO</td>\n",
       "    </tr>\n",
       "    <tr>\n",
       "      <th>AIA</th>\n",
       "      <td>3</td>\n",
       "      <td>0</td>\n",
       "      <td>67.240452</td>\n",
       "      <td>Anguilla</td>\n",
       "      <td>LATIN AMER. &amp; CARIB</td>\n",
       "      <td>13477</td>\n",
       "      <td>102</td>\n",
       "      <td>1321</td>\n",
       "      <td>2103.0</td>\n",
       "      <td>8600.0</td>\n",
       "      <td>...</td>\n",
       "      <td>0.0</td>\n",
       "      <td>0.0</td>\n",
       "      <td>100.0</td>\n",
       "      <td>2.0</td>\n",
       "      <td>1417.0</td>\n",
       "      <td>534.0</td>\n",
       "      <td>4.0</td>\n",
       "      <td>18.0</td>\n",
       "      <td>78.0</td>\n",
       "      <td>AIA</td>\n",
       "    </tr>\n",
       "    <tr>\n",
       "      <th>ALB</th>\n",
       "      <td>13806</td>\n",
       "      <td>388</td>\n",
       "      <td>6321.348981</td>\n",
       "      <td>Albania</td>\n",
       "      <td>EASTERN EUROPE</td>\n",
       "      <td>3581655</td>\n",
       "      <td>28748</td>\n",
       "      <td>1246</td>\n",
       "      <td>2152.0</td>\n",
       "      <td>4500.0</td>\n",
       "      <td>...</td>\n",
       "      <td>2109.0</td>\n",
       "      <td>442.0</td>\n",
       "      <td>7449.0</td>\n",
       "      <td>3.0</td>\n",
       "      <td>1511.0</td>\n",
       "      <td>522.0</td>\n",
       "      <td>232.0</td>\n",
       "      <td>188.0</td>\n",
       "      <td>579.0</td>\n",
       "      <td>ALB</td>\n",
       "    </tr>\n",
       "  </tbody>\n",
       "</table>\n",
       "<p>5 rows × 21 columns</p>\n",
       "</div>"
      ],
      "text/plain": [
       "      cases  deaths  \\\n",
       "Code                  \n",
       "ABW    3998      27   \n",
       "AFG   39285    1458   \n",
       "AGO    4972     183   \n",
       "AIA       3       0   \n",
       "ALB   13806     388   \n",
       "\n",
       "      Cumulative_number_for_14_days_of_COVID-19_cases_per_100000      Country  \\\n",
       "Code                                                                            \n",
       "ABW                                        48934.248896                 Aruba   \n",
       "AFG                                         1441.242580           Afghanistan   \n",
       "AGO                                          194.681596                Angola   \n",
       "AIA                                           67.240452              Anguilla   \n",
       "ALB                                         6321.348981               Albania   \n",
       "\n",
       "                                   Region  Population  Area (sq. mi.)  \\\n",
       "Code                                                                    \n",
       "ABW               LATIN AMER. & CARIB           71891             193   \n",
       "AFG         ASIA (EX. NEAR EAST)             31056997          647500   \n",
       "AGO   SUB-SAHARAN AFRICA                     12127071         1246700   \n",
       "AIA               LATIN AMER. & CARIB           13477             102   \n",
       "ALB   EASTERN EUROPE                          3581655           28748   \n",
       "\n",
       "      Pop. Density (per sq. mi.)  Infant mortality (per 1000 births)  \\\n",
       "Code                                                                   \n",
       "ABW                         3725                               589.0   \n",
       "AFG                          480                             16307.0   \n",
       "AGO                           97                             19119.0   \n",
       "AIA                         1321                              2103.0   \n",
       "ALB                         1246                              2152.0   \n",
       "\n",
       "      GDP ($ per capita)  ...  Arable (%)  Crops (%)  Other (%)  Climate  \\\n",
       "Code                      ...                                              \n",
       "ABW              28000.0  ...      1053.0        0.0     8947.0      2.0   \n",
       "AFG                700.0  ...      1213.0       22.0     8765.0      1.0   \n",
       "AGO               1900.0  ...       241.0       24.0     9735.0      0.0   \n",
       "AIA               8600.0  ...         0.0        0.0      100.0      2.0   \n",
       "ALB               4500.0  ...      2109.0      442.0     7449.0      3.0   \n",
       "\n",
       "      Birthrate  Deathrate  Agriculture  Industry  Service  Codes  \n",
       "Code                                                               \n",
       "ABW      1103.0      668.0          4.0     333.0    663.0    ABW  \n",
       "AFG       466.0     2034.0         38.0      24.0     38.0    AFG  \n",
       "AGO      4511.0      242.0         96.0     658.0    246.0    AGO  \n",
       "AIA      1417.0      534.0          4.0      18.0     78.0    AIA  \n",
       "ALB      1511.0      522.0        232.0     188.0    579.0    ALB  \n",
       "\n",
       "[5 rows x 21 columns]"
      ]
     },
     "execution_count": 3,
     "metadata": {},
     "output_type": "execute_result"
    }
   ],
   "source": [
    "df3.head()"
   ]
  },
  {
   "cell_type": "code",
   "execution_count": 4,
   "metadata": {},
   "outputs": [
    {
     "data": {
      "text/plain": [
       "Index(['cases', 'deaths',\n",
       "       'Cumulative_number_for_14_days_of_COVID-19_cases_per_100000', 'Country',\n",
       "       'Region', 'Population', 'Area (sq. mi.)', 'Pop. Density (per sq. mi.)',\n",
       "       'Infant mortality (per 1000 births)', 'GDP ($ per capita)',\n",
       "       'Literacy (%)', 'Arable (%)', 'Crops (%)', 'Other (%)', 'Climate',\n",
       "       'Birthrate', 'Deathrate', 'Agriculture', 'Industry', 'Service',\n",
       "       'Codes'],\n",
       "      dtype='object')"
      ]
     },
     "execution_count": 4,
     "metadata": {},
     "output_type": "execute_result"
    }
   ],
   "source": [
    "df3.columns"
   ]
  },
  {
   "cell_type": "markdown",
   "metadata": {},
   "source": [
    "## Data Split"
   ]
  },
  {
   "cell_type": "code",
   "execution_count": 5,
   "metadata": {},
   "outputs": [
    {
     "name": "stdout",
     "output_type": "stream",
     "text": [
      "(155, 21)\n",
      "(39, 21)\n"
     ]
    }
   ],
   "source": [
    "train, test = train_test_split(df3, test_size=0.2, random_state=142)\n",
    "print(train.shape)\n",
    "print(test.shape)"
   ]
  },
  {
   "cell_type": "markdown",
   "metadata": {},
   "source": [
    "## Model Training"
   ]
  },
  {
   "cell_type": "code",
   "execution_count": 6,
   "metadata": {},
   "outputs": [
    {
     "name": "stdout",
     "output_type": "stream",
     "text": [
      "(155, 17)\n",
      "(155,)\n",
      "(39, 17)\n",
      "(39,)\n"
     ]
    }
   ],
   "source": [
    "X_train = train.drop(['Country','Region','Codes','deaths' ], axis = 1)\n",
    "y_train = train['deaths']\n",
    "X_test = test.drop(['Country','Region','Codes','deaths'], axis = 1)\n",
    "y_test = test['deaths']\n",
    "print(X_train.shape)\n",
    "print(y_train.shape)\n",
    "print(X_test.shape)\n",
    "print(y_test.shape)"
   ]
  },
  {
   "cell_type": "markdown",
   "metadata": {},
   "source": [
    "- We have used all the features for Model Training and Evaluation"
   ]
  },
  {
   "cell_type": "markdown",
   "metadata": {},
   "source": [
    "## Logistic Regression"
   ]
  },
  {
   "cell_type": "code",
   "execution_count": 7,
   "metadata": {},
   "outputs": [],
   "source": [
    "# Instantiating model\n",
    "model = LogisticRegression()"
   ]
  },
  {
   "cell_type": "code",
   "execution_count": 8,
   "metadata": {},
   "outputs": [
    {
     "data": {
      "text/plain": [
       "LogisticRegression()"
      ]
     },
     "execution_count": 8,
     "metadata": {},
     "output_type": "execute_result"
    }
   ],
   "source": [
    "# Training Model\n",
    "model.fit(X_train, y_train)"
   ]
  },
  {
   "cell_type": "markdown",
   "metadata": {},
   "source": [
    "## Model Evaluation"
   ]
  },
  {
   "cell_type": "code",
   "execution_count": 9,
   "metadata": {},
   "outputs": [],
   "source": [
    "y_train_hat = model.predict(X_train)\n",
    "y_test_hat = model.predict(X_test)"
   ]
  },
  {
   "cell_type": "code",
   "execution_count": 10,
   "metadata": {},
   "outputs": [
    {
     "name": "stdout",
     "output_type": "stream",
     "text": [
      "Accuracy score on Training set :  0.025806451612903226\n",
      "Accuracy score on Test set :  0.0\n",
      "MSE for test:  15127873275.692308\n",
      "R2 score :  -222.66071670785908\n"
     ]
    }
   ],
   "source": [
    "print(\"Accuracy score on Training set : \", accuracy_score(y_train, y_train_hat))\n",
    "print(\"Accuracy score on Test set : \", accuracy_score(y_test, y_test_hat))\n",
    "\n",
    "print(\"MSE for test: \", mean_squared_error(y_test, y_test_hat))\n",
    "print(\"R2 score : \", r2_score(y_test, y_test_hat))"
   ]
  },
  {
   "cell_type": "markdown",
   "metadata": {},
   "source": [
    "- The Logistic Regression model gives the above evaluation metrics. To improve the accuracy score we would use the Feature importance and look at the features that are more important for evaluation.    "
   ]
  },
  {
   "cell_type": "code",
   "execution_count": 11,
   "metadata": {},
   "outputs": [],
   "source": [
    "estimator = LogisticRegression()\n",
    "rmse_scores = []\n",
    "for i in range(1,18):\n",
    "    selector = RFE(estimator, n_features_to_select = i)\n",
    "    selector.fit(X_train, y_train)\n",
    "    y_test_hat = selector.predict(X_test)\n",
    "    rmse_test = np.sqrt(mean_squared_error(y_test, y_test_hat))\n",
    "#     print('RMSE on using', i, 'features:', rmse_test)\n",
    "    rmse_scores.append(rmse_test)"
   ]
  },
  {
   "cell_type": "code",
   "execution_count": 12,
   "metadata": {},
   "outputs": [
    {
     "data": {
      "image/png": "[encoded data removed]",
      "text/plain": [
       "<Figure size 1152x720 with 1 Axes>"
      ]
     },
     "metadata": {
      "needs_background": "light"
     },
     "output_type": "display_data"
    }
   ],
   "source": [
    "best = 1\n",
    "for item in rmse_scores:\n",
    "    if item < rmse_scores[best - 1]:\n",
    "        best = rmse_scores.index(item) + 1\n",
    "plt.figure(figsize = (16,10))\n",
    "plt.grid()\n",
    "plt.xlabel('No. of features selected')\n",
    "plt.ylabel('RMSE on test set')\n",
    "plt.title('RFE on RMSE scores on test set', fontsize = 18, fontweight = 'bold')\n",
    "plt.plot(range(1,18), rmse_scores, marker = 'o', color = 'Lightblue', markeredgewidth = 1, markeredgecolor = 'Darkblue')\n",
    "plt.plot(best , rmse_scores[best-1], marker = 'o', markerfacecolor = 'Lightblue')\n",
    "plt.show()"
   ]
  },
  {
   "cell_type": "markdown",
   "metadata": {},
   "source": [
    "## Feature Importance"
   ]
  },
  {
   "cell_type": "code",
   "execution_count": 13,
   "metadata": {},
   "outputs": [
    {
     "name": "stdout",
     "output_type": "stream",
     "text": [
      "Feature: 0, Score: 0.15579\n",
      "Feature: 1, Score: -0.52958\n",
      "Feature: 2, Score: 0.07798\n",
      "Feature: 3, Score: 0.03624\n",
      "Feature: 4, Score: -0.46798\n",
      "Feature: 5, Score: 0.06621\n",
      "Feature: 6, Score: 0.00165\n",
      "Feature: 7, Score: 0.07440\n",
      "Feature: 8, Score: 0.48918\n",
      "Feature: 9, Score: 0.07461\n",
      "Feature: 10, Score: -0.66109\n",
      "Feature: 11, Score: 0.06265\n",
      "Feature: 12, Score: -0.40381\n",
      "Feature: 13, Score: 0.01047\n",
      "Feature: 14, Score: -0.09861\n",
      "Feature: 15, Score: 0.18790\n",
      "Feature: 16, Score: 0.03567\n",
      "Feature: 17, Score: 0.01258\n",
      "Feature: 18, Score: -0.02992\n",
      "Feature: 19, Score: 0.26415\n",
      "Feature: 20, Score: -0.11826\n"
     ]
    }
   ],
   "source": [
    "# logistic regression for feature importance\n",
    "from sklearn.datasets import make_classification\n",
    "from sklearn.linear_model import LogisticRegression\n",
    "from matplotlib import pyplot\n",
    "# define dataset\n",
    "X_train, y_train = make_classification(n_samples=1000, n_features=21, n_informative=5, n_redundant=5, random_state=1)\n",
    "# define the model\n",
    "model = LogisticRegression()\n",
    "# fit the model\n",
    "model.fit(X_train, y_train)\n",
    "# get importance\n",
    "importance = model.coef_[0]\n",
    "# summarize feature importance\n",
    "for i,v in enumerate(importance):\n",
    "    print('Feature: %0d, Score: %.5f' % (i,v))"
   ]
  },
  {
   "cell_type": "markdown",
   "metadata": {},
   "source": [
    "## After Feature Importance"
   ]
  },
  {
   "cell_type": "code",
   "execution_count": 14,
   "metadata": {},
   "outputs": [
    {
     "name": "stdout",
     "output_type": "stream",
     "text": [
      "(155, 13)\n",
      "(155,)\n",
      "(39, 13)\n",
      "(39,)\n"
     ]
    }
   ],
   "source": [
    "X_train = train.drop(['deaths','Country','Region','Literacy (%)','Crops (%)','Climate','Industry','Codes' ], axis = 1)\n",
    "y_train = train['deaths']\n",
    "X_test = test.drop(['deaths','Country','Region','Literacy (%)','Crops (%)','Climate','Industry','Codes'], axis = 1)\n",
    "y_test = test['deaths']\n",
    "print(X_train.shape)\n",
    "print(y_train.shape)\n",
    "print(X_test.shape)\n",
    "print(y_test.shape)"
   ]
  },
  {
   "cell_type": "code",
   "execution_count": 15,
   "metadata": {},
   "outputs": [],
   "source": [
    "# Instantiating model\n",
    "model = LogisticRegression()"
   ]
  },
  {
   "cell_type": "code",
   "execution_count": 16,
   "metadata": {},
   "outputs": [
    {
     "data": {
      "text/plain": [
       "LogisticRegression()"
      ]
     },
     "execution_count": 16,
     "metadata": {},
     "output_type": "execute_result"
    }
   ],
   "source": [
    "# Training Model\n",
    "model.fit(X_train, y_train)"
   ]
  },
  {
   "cell_type": "code",
   "execution_count": 17,
   "metadata": {},
   "outputs": [],
   "source": [
    "y_train_hat = model.predict(X_train)\n",
    "y_test_hat = model.predict(X_test)"
   ]
  },
  {
   "cell_type": "code",
   "execution_count": 18,
   "metadata": {},
   "outputs": [
    {
     "name": "stdout",
     "output_type": "stream",
     "text": [
      "Accuracy score on Training set after RFE :  0.025806451612903226\n",
      "Accuracy score on Test set after RFE :  0.0\n",
      "MSE for test after RFE:  11216479364.461538\n",
      "R2 score after RFE :  -164.8320219819248\n"
     ]
    }
   ],
   "source": [
    "print(\"Accuracy score on Training set after RFE : \", accuracy_score(y_train, y_train_hat))\n",
    "print(\"Accuracy score on Test set after RFE : \", accuracy_score(y_test, y_test_hat))\n",
    "\n",
    "print(\"MSE for test after RFE: \", mean_squared_error(y_test, y_test_hat))\n",
    "print(\"R2 score after RFE : \", r2_score(y_test, y_test_hat))"
   ]
  },
  {
   "cell_type": "markdown",
   "metadata": {},
   "source": [
    "- After using the features that are important there is no improvement in the accuracy score as seen above."
   ]
  },
  {
   "cell_type": "markdown",
   "metadata": {},
   "source": [
    "## K- Nearest Neighbor"
   ]
  },
  {
   "cell_type": "code",
   "execution_count": 19,
   "metadata": {},
   "outputs": [
    {
     "data": {
      "text/plain": [
       "KNeighborsClassifier(n_neighbors=1)"
      ]
     },
     "execution_count": 19,
     "metadata": {},
     "output_type": "execute_result"
    }
   ],
   "source": [
    "from sklearn.neighbors import KNeighborsClassifier\n",
    "\n",
    "# Build a KNN classifier model\n",
    "clf_knn = KNeighborsClassifier(n_neighbors=1)\n",
    "\n",
    "# Train the model with the training data\n",
    "clf_knn.fit(X_train, y_train)"
   ]
  },
  {
   "cell_type": "code",
   "execution_count": 20,
   "metadata": {},
   "outputs": [
    {
     "name": "stdout",
     "output_type": "stream",
     "text": [
      "Accuracy Score on Test set : 0.02564102564102564\n"
     ]
    }
   ],
   "source": [
    "# predictions on the test set\n",
    "y_test_predictions = clf_knn.predict(X_test)\n",
    "print('Accuracy Score on Test set :', accuracy_score(y_test, y_test_predictions ))"
   ]
  },
  {
   "cell_type": "code",
   "execution_count": 21,
   "metadata": {},
   "outputs": [
    {
     "name": "stdout",
     "output_type": "stream",
     "text": [
      "Best K value is : 51\n",
      "Best Accuracy Score : 0.1042\n",
      "\n"
     ]
    }
   ],
   "source": [
    "# finding the best K value\n",
    "parameter_grid = {'n_neighbors': range(1, 135, 5)}\n",
    "knn_clf = KNeighborsClassifier()\n",
    "\n",
    "gs_knn = GridSearchCV(knn_clf, parameter_grid, scoring = 'accuracy', cv = KFold(n_splits =10, shuffle =True))\n",
    "\n",
    "gs_knn.fit(X_train, y_train)\n",
    "\n",
    "print('Best K value is :', gs_knn.best_params_['n_neighbors'])\n",
    "print('Best Accuracy Score : %.4f\\n' % gs_knn.best_score_ )"
   ]
  },
  {
   "cell_type": "code",
   "execution_count": 22,
   "metadata": {},
   "outputs": [
    {
     "name": "stdout",
     "output_type": "stream",
     "text": [
      "[0.0625     0.0625     0.0625     0.0625     0.125      0.13333333\n",
      " 0.13333333 0.06666667 0.13333333 0.13333333]\n",
      "The accuracy mean is :  0.09749999999999999\n",
      "The standard deviation is :  0.034268141991586815\n"
     ]
    }
   ],
   "source": [
    "# KNN classifier\n",
    "\n",
    "knn = KNeighborsClassifier(n_neighbors = 51)\n",
    "knn.fit(X_train, y_train)\n",
    "\n",
    "scores_KNN = cross_val_score(knn, X_train, y_train, cv=10, scoring='accuracy')\n",
    "print(scores_KNN)\n",
    "print('The accuracy mean is : ', scores_KNN.mean())\n",
    "print('The standard deviation is : ', scores_KNN.std())"
   ]
  },
  {
   "cell_type": "markdown",
   "metadata": {},
   "source": [
    "- We choose the best K value to reduce the noise in the model and have a better accuracy score."
   ]
  }
 ],
 "metadata": {
  "kernelspec": {
   "display_name": "Python 3",
   "language": "python",
   "name": "python3"
  },
  "language_info": {
   "codemirror_mode": {
    "name": "ipython",
    "version": 3
   },
   "file_extension": ".py",
   "mimetype": "text/x-python",
   "name": "python",
   "nbconvert_exporter": "python",
   "pygments_lexer": "ipython3",
   "version": "3.7.3"
  }
 },
 "nbformat": 4,
 "nbformat_minor": 2
}
