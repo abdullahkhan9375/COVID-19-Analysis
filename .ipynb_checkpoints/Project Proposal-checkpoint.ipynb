{
 "cells": [
  {
   "cell_type": "markdown",
   "metadata": {},
   "source": [
    "### 1.      Title and Summary \n",
    "## Covering COVID-19: A Wholistic Analysis\n",
    "\n",
    "### 2.      Description of Goals\n",
    "\n",
    " COVID-19 (Coronavirus) is an infectious virus that has spread all over the world. With over 30 Million cases worldwide and almost a million deaths, it has evolved into a modern pandemic. It has sent shockwaves throughout industries and businesses, sending economies into recession and elevating unemployment rates. The consequences of COVID-19 are still being documented, and there is abundant data available for analysts and data scientists.\n",
    " \n",
    " We have decided to delve deeper into this phenomenon, and look for global and domestic trends. For our project, we will be exploring the trends and impacts from non-pharmaceutical measures such as lockdowns, and also trends within the tourism industry, immigration among others.\n",
    " \n",
    "### 3.      Summary of datasets (format, data cleaning process) \n",
    "\n",
    "#### Data Cleaning Process:\n",
    "\n",
    "For data cleaning, we will focus on indexing the datasets according to months. Any redundant, repeated, null or NaN values will be omitted from the dataset. Furthermore to make the data consistent, we will join the different dataset with a main COVID dataset. For example, if we are focusing on tourism trends in Europe, we will join the dataset with a COVID dataset targeting European countries. This will help us to obtain relevant information from the dataset, and minimize the time taking in the cleaning process.\n",
    "\n",
    "Data sources : \n",
    "\n",
    "1. For the COVID dataset, we will be obtaining datasets from European Union open data portal (https://data.europa.eu/euodp/en/data/dataset/covid-19-coronavirus-data) \n",
    "2. For the Tourist industry, we will be focusing on datasets obtained from Eurostat (https://ec.europa.eu/eurostat/home) and Australian Bureau of Statistics (https://www.abs.gov.au/). \n",
    "\n",
    "### 4.      Techniques / Analysis\n",
    "\n",
    "1. Pareto chart for coronavirus case count, death count, and recovery count. \n",
    "2. Regression(Simple Linear, Random Forest, SVM): Predicting covid’s transmission factors\n",
    "3. Time Series Analysis: Observing the variation of covid-19 cases progression over time.\n",
    "\n",
    "We’re also expecting to use other techniques like Clustering and Classification for more in-depth analysis of our datasets\n",
    "\n",
    "### 5.      Project Plan \n",
    "\n",
    "We have decided to plan two major milestones for our project.\n",
    "\n",
    "#### - Milestone 1\n",
    "\n",
    "Milestone 1 will be obtaining, cleaning and stitching together the relevant datasets. This will help provide a full picture of our target industries. We will have reached our milestone once we are sure that our data covers 2019-2020 data as a COVID-19 Impacted dataset and 2018-2019 as a control dataset. This is projected to be achieved by Week 8. \n",
    "#### - Milestone 2\n",
    "\n",
    "We’ll try to complete pareto charts, fit in models such as linear regression, Random Forest, SVM to see which one performs best, and do a Time Series Analysis on the datasets\n",
    "#### - Milestone 3\n",
    "\n",
    "Milestone 3 would be reached when we are able to complete the rest of our analysis, and upload a finalized version of the report by week 12 with some data visualizations. \n"
   ]
  },
  {
   "cell_type": "code",
   "execution_count": null,
   "metadata": {},
   "outputs": [],
   "source": []
  }
 ],
 "metadata": {
  "kernelspec": {
   "display_name": "Python 3",
   "language": "python",
   "name": "python3"
  },
  "language_info": {
   "codemirror_mode": {
    "name": "ipython",
    "version": 3
   },
   "file_extension": ".py",
   "mimetype": "text/x-python",
   "name": "python",
   "nbconvert_exporter": "python",
   "pygments_lexer": "ipython3",
   "version": "3.8.3"
  }
 },
 "nbformat": 4,
 "nbformat_minor": 2
}
